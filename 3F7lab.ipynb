{
 "cells": [
  {
   "cell_type": "markdown",
   "metadata": {},
   "source": [
    "# 3F7 Lab: CamZIP"
   ]
  },
  {
   "cell_type": "markdown",
   "metadata": {},
   "source": [
    "## Tree data structures"
   ]
  },
  {
   "cell_type": "markdown",
   "metadata": {},
   "source": [
    "Import all functions from the package trees where we put together a number of tools for handling trees in the 3F7 lab."
   ]
  },
  {
   "cell_type": "code",
   "execution_count": 76,
   "metadata": {
    "ExecuteTime": {
     "end_time": "2023-11-06T02:38:08.470887700Z",
     "start_time": "2023-11-06T02:38:08.162465600Z"
    }
   },
   "outputs": [],
   "source": [
    "from trees import *"
   ]
  },
  {
   "cell_type": "markdown",
   "metadata": {},
   "source": [
    "Now define a simple tree (play around with this command and construct more complicated trees....)"
   ]
  },
  {
   "cell_type": "code",
   "execution_count": 77,
   "metadata": {
    "ExecuteTime": {
     "end_time": "2023-11-06T02:38:08.472819600Z",
     "start_time": "2023-11-06T02:38:08.168468Z"
    }
   },
   "outputs": [],
   "source": [
    "t = [-1, 0, 0, 1, 1, 3, 3, 4, 2]"
   ]
  },
  {
   "cell_type": "markdown",
   "metadata": {},
   "source": [
    "The following command will print a string that can be copy-pasted into a tree visualising website like [phylo.io](https://phylo.io) (don't forget to add a new line at the end of the string after cutting and pasting)"
   ]
  },
  {
   "cell_type": "code",
   "execution_count": 78,
   "metadata": {
    "ExecuteTime": {
     "end_time": "2023-11-06T02:38:08.739672100Z",
     "start_time": "2023-11-06T02:38:08.177374Z"
    }
   },
   "outputs": [
    {
     "name": "stdout",
     "output_type": "stream",
     "text": [
      "(((1000,1001)1007,(1002)1008)1005,(1003)1006)1004\n",
      "Cut and paste the string on the previous line and add a \"new line\" at the end of the string.\n"
     ]
    }
   ],
   "source": [
    "print(tree2newick(t))\n",
    "print('Cut and paste the string on the previous line and add a \"new line\" at the end of the string.')"
   ]
  },
  {
   "cell_type": "markdown",
   "metadata": {},
   "source": [
    "You can also add labels to the nodes in the `tree2newick` command."
   ]
  },
  {
   "cell_type": "code",
   "execution_count": 79,
   "metadata": {
    "ExecuteTime": {
     "end_time": "2023-11-06T02:38:08.742724200Z",
     "start_time": "2023-11-06T02:38:08.187412100Z"
    }
   },
   "outputs": [
    {
     "name": "stdout",
     "output_type": "stream",
     "text": [
      "(((root,child 0)1007,(grandchild 0)1008)1005,(grandchild 1)1006)child 1\n"
     ]
    }
   ],
   "source": [
    "print(tree2newick(t,['root', 'child 0', 'grandchild 0', 'grandchild 1', 'child 1']))"
   ]
  },
  {
   "cell_type": "markdown",
   "metadata": {},
   "source": [
    "If there are less labels than nodes, the labels will be interpreted \"leaves first\""
   ]
  },
  {
   "cell_type": "code",
   "execution_count": 80,
   "metadata": {
    "ExecuteTime": {
     "end_time": "2023-11-06T02:38:08.772367900Z",
     "start_time": "2023-11-06T02:38:08.196404400Z"
    }
   },
   "outputs": [
    {
     "name": "stdout",
     "output_type": "stream",
     "text": [
      "(((symbol 0,symbol 1)1007,(symbol 2)1008)1005,(1003)1006)1004\n"
     ]
    }
   ],
   "source": [
    "print(tree2newick(t,['symbol 0','symbol 1', 'symbol 2']))"
   ]
  },
  {
   "cell_type": "markdown",
   "metadata": {},
   "source": [
    "The following command converts a variable-length code described by a tree to a code table format."
   ]
  },
  {
   "cell_type": "code",
   "execution_count": 81,
   "metadata": {
    "scrolled": true,
    "ExecuteTime": {
     "end_time": "2023-11-06T02:38:08.772367900Z",
     "start_time": "2023-11-06T02:38:08.203493100Z"
    }
   },
   "outputs": [
    {
     "name": "stdout",
     "output_type": "stream",
     "text": [
      "{'a': [0, 0, 0], 'b': [0, 0, 1], 'c': [0, 1, 0], 'd': [1, 0]}\n",
      "{'a': [0, 0, 0], 'b': [0, 0, 1], 'd': [0, 1, 0], 'c': [1, 0]}\n"
     ]
    }
   ],
   "source": [
    "print(tree2code(t,['a','b','c','d']))\n",
    "print(tree2code(t,['a','b','d','c']))"
   ]
  },
  {
   "cell_type": "code",
   "execution_count": 82,
   "outputs": [
    {
     "name": "stdout",
     "output_type": "stream",
     "text": [
      "{'1000': [0, 0, 0], '1001': [0, 0, 1], '1002': [0, 1, 0], '1003': [1, 0]}\n"
     ]
    }
   ],
   "source": [
    "print(tree2code(code2tree(tree2code(t,['a','b','c','d']))))"
   ],
   "metadata": {
    "collapsed": false,
    "ExecuteTime": {
     "end_time": "2023-11-06T02:38:08.780102900Z",
     "start_time": "2023-11-06T02:38:08.207548Z"
    }
   }
  },
  {
   "cell_type": "code",
   "execution_count": 83,
   "outputs": [
    {
     "name": "stdout",
     "output_type": "stream",
     "text": [
      "[-1, 0, 1, 2, 2, 1, 5, 0, 7]\n",
      "[-1, 0, 1, 2, 2, 1, 5, 0, 7]\n",
      "[-1, 0, 1, 2, 2, 1, 5, 0, 7]\n",
      "[-1, 0, 1, 2, 2, 1, 5, 0, 7]\n",
      "[-1, 0, 1, 2, 2, 1, 5, 0, 7]\n",
      "(((1000,1001)1006,(1002)1007)1005,(1003)1008)1004\n"
     ]
    }
   ],
   "source": [
    "print(code2tree( {'a': [0,0,0], 'b':[0,0,1], 'c':[0,1,0], 'd':[1,1]})) #a\n",
    "print(code2tree( {'a': [0,0,0], 'b':[0,0,1], 'c':[0,1,1], 'd':[1,0]})) #b\n",
    "print(code2tree( {'a': [0,0,0], 'b':[0,0,1], 'c':[0,1,0], 'd':[1,0]})) #d\n",
    "print(code2tree( {'a': [0,0,0], 'b':[0,0,1], 'c':[0,1,1], 'd':[1,1]})) #e\n",
    "print(code2tree( {'a': [0,0,0], 'b':[0,0,1], 'c':[0,1,0], 'd':[1,0]})) #f\n",
    "print(tree2newick([-1, 0, 1, 2, 2, 1, 5, 0, 7]))"
   ],
   "metadata": {
    "collapsed": false,
    "ExecuteTime": {
     "end_time": "2023-11-06T02:38:08.802769Z",
     "start_time": "2023-11-06T02:38:08.213536500Z"
    }
   }
  },
  {
   "cell_type": "code",
   "execution_count": 84,
   "outputs": [
    {
     "name": "stdout",
     "output_type": "stream",
     "text": [
      "((a,b)1005,(c,d)1006)1004\n"
     ]
    }
   ],
   "source": [
    "code_2= {'a':[0,0], 'b':[0,1], 'c':[1,0], 'd':[1,1]}\n",
    "print(tree2newick(code2tree(code_2),labels=['a','b','c','d']))"
   ],
   "metadata": {
    "collapsed": false,
    "ExecuteTime": {
     "end_time": "2023-11-06T02:38:08.802769Z",
     "start_time": "2023-11-06T02:38:08.217477600Z"
    }
   }
  },
  {
   "cell_type": "markdown",
   "metadata": {},
   "source": [
    "Verify that the inverse function can recover the tree. "
   ]
  },
  {
   "cell_type": "code",
   "execution_count": 85,
   "metadata": {
    "ExecuteTime": {
     "end_time": "2023-11-06T02:38:08.804757400Z",
     "start_time": "2023-11-06T02:38:08.222174200Z"
    }
   },
   "outputs": [
    {
     "name": "stdout",
     "output_type": "stream",
     "text": [
      "[-1, 0, 1, 2, 2, 1, 5, 0, 7]\n"
     ]
    }
   ],
   "source": [
    "print(code2tree(tree2code(t))) # as it should be, tree inverted"
   ]
  },
  {
   "cell_type": "markdown",
   "metadata": {},
   "source": [
    "But the following may happen as well. Can you explain why?"
   ]
  },
  {
   "cell_type": "code",
   "execution_count": 86,
   "metadata": {
    "ExecuteTime": {
     "end_time": "2023-11-06T02:38:08.809760100Z",
     "start_time": "2023-11-06T02:38:08.226294200Z"
    }
   },
   "outputs": [
    {
     "name": "stdout",
     "output_type": "stream",
     "text": [
      "[-1, 0, 1, 1, 0]\n"
     ]
    }
   ],
   "source": [
    "print(code2tree(tree2code([3,3,4,4,-1])))"
   ]
  },
  {
   "cell_type": "code",
   "execution_count": 87,
   "metadata": {
    "collapsed": false,
    "jupyter": {
     "outputs_hidden": false
    },
    "ExecuteTime": {
     "end_time": "2023-11-06T02:38:08.815464500Z",
     "start_time": "2023-11-06T02:38:08.230643800Z"
    }
   },
   "outputs": [
    {
     "name": "stdout",
     "output_type": "stream",
     "text": [
      "{'1000': [0, 0, 0], '1001': [0, 0, 1], '1002': [0, 1, 0], '1003': [1, 0]}\n"
     ]
    }
   ],
   "source": [
    "print(tree2code(t))"
   ]
  },
  {
   "cell_type": "code",
   "execution_count": 88,
   "metadata": {
    "collapsed": false,
    "jupyter": {
     "outputs_hidden": false
    },
    "ExecuteTime": {
     "end_time": "2023-11-06T02:38:08.816463700Z",
     "start_time": "2023-11-06T02:38:08.235656200Z"
    }
   },
   "outputs": [
    {
     "name": "stdout",
     "output_type": "stream",
     "text": [
      "{'1000': [1, 0], '1001': [1, 1], '1002': [0]}\n"
     ]
    }
   ],
   "source": [
    "print( tree2code([3,3,4,4,-1]) )"
   ]
  },
  {
   "cell_type": "code",
   "execution_count": 89,
   "metadata": {
    "collapsed": false,
    "jupyter": {
     "outputs_hidden": false
    },
    "ExecuteTime": {
     "end_time": "2023-11-06T02:38:08.828137400Z",
     "start_time": "2023-11-06T02:38:08.239645400Z"
    }
   },
   "outputs": [
    {
     "name": "stdout",
     "output_type": "stream",
     "text": [
      "(child 0,(grandchild 0,grandchild 1)child 1)root\n"
     ]
    }
   ],
   "source": [
    "print(tree2newick([3,3,4,4,-1], ['grandchild 0', 'grandchild 1', 'child 0', 'child 1', 'root']))"
   ]
  },
  {
   "cell_type": "code",
   "execution_count": 90,
   "metadata": {
    "collapsed": false,
    "jupyter": {
     "outputs_hidden": false
    },
    "ExecuteTime": {
     "end_time": "2023-11-06T02:38:08.829096800Z",
     "start_time": "2023-11-06T02:38:08.243642400Z"
    }
   },
   "outputs": [
    {
     "name": "stdout",
     "output_type": "stream",
     "text": [
      "((grandchild 0,grandchild 1)child 0,child 1)root\n"
     ]
    }
   ],
   "source": [
    "print(tree2newick([-1, 0, 1, 1, 0], ['root', 'child 0', 'grandchild 0', 'grandchild 1', 'child 1']))"
   ]
  },
  {
   "cell_type": "code",
   "execution_count": 91,
   "metadata": {
    "ExecuteTime": {
     "end_time": "2023-11-06T02:38:08.829096800Z",
     "start_time": "2023-11-06T02:38:08.248643400Z"
    }
   },
   "outputs": [
    {
     "name": "stdout",
     "output_type": "stream",
     "text": [
      "(child 0,(grandchild 0,grandchild 1)child 1)root\n"
     ]
    }
   ],
   "source": [
    "print(tree2newick([3,3,4,4,-1], ['grandchild 0', 'grandchild 1', 'child 0', 'child 1', 'root']))"
   ]
  },
  {
   "cell_type": "markdown",
   "metadata": {},
   "source": [
    "Similarly but far more problematic is the following inversion. The resulting assignment of codeword to symbols is fundamentally different from the original and would result in wrong decoding."
   ]
  },
  {
   "cell_type": "code",
   "execution_count": 92,
   "metadata": {
    "ExecuteTime": {
     "end_time": "2023-11-06T02:38:08.829096800Z",
     "start_time": "2023-11-06T02:38:08.252235100Z"
    }
   },
   "outputs": [
    {
     "name": "stdout",
     "output_type": "stream",
     "text": [
      "{'1000': [0], '1001': [1, 0], '1002': [1, 1, 0], '1003': [1, 1, 1]}\n"
     ]
    }
   ],
   "source": [
    "print(tree2code(code2tree({'0':[1], '1':[0,1], '2':[0,0,1], '3':[0,0,0]})))"
   ]
  },
  {
   "cell_type": "markdown",
   "metadata": {},
   "source": [
    "These problems are all solved when using the extended tree format."
   ]
  },
  {
   "cell_type": "code",
   "execution_count": 93,
   "metadata": {
    "ExecuteTime": {
     "end_time": "2023-11-06T02:38:08.831721Z",
     "start_time": "2023-11-06T02:38:08.256855100Z"
    }
   },
   "outputs": [
    {
     "name": "stdout",
     "output_type": "stream",
     "text": [
      "[[3, [], 'a'], [3, [], 'b'], [4, [], 'c'], [4, [0, 1], '1003'], [-1, [2, 3], '1004']]\n"
     ]
    }
   ],
   "source": [
    "xt = tree2xtree([3,3,4,4,-1], ['a', 'b', 'c'])\n",
    "print(xt)"
   ]
  },
  {
   "cell_type": "code",
   "execution_count": 94,
   "metadata": {
    "ExecuteTime": {
     "end_time": "2023-11-06T02:38:08.842732400Z",
     "start_time": "2023-11-06T02:38:08.259975600Z"
    }
   },
   "outputs": [
    {
     "name": "stdout",
     "output_type": "stream",
     "text": [
      "{'0': [1], '1': [0, 1], '2': [0, 0, 1], '3': [0, 0, 0]}\n"
     ]
    }
   ],
   "source": [
    "print(xtree2code(code2xtree({'0':[1], '1':[0,1], '2':[0,0,1], '3':[0,0,0]})))"
   ]
  },
  {
   "cell_type": "markdown",
   "metadata": {
    "collapsed": false,
    "jupyter": {
     "outputs_hidden": false
    }
   },
   "source": [
    "Playground with more elaborate examples"
   ]
  },
  {
   "cell_type": "code",
   "execution_count": 95,
   "metadata": {
    "collapsed": false,
    "jupyter": {
     "outputs_hidden": false
    },
    "ExecuteTime": {
     "end_time": "2023-11-06T02:38:08.842732400Z",
     "start_time": "2023-11-06T02:38:08.263977200Z"
    }
   },
   "outputs": [
    {
     "name": "stdout",
     "output_type": "stream",
     "text": [
      "{'1000': [0, 0], '1001': [0, 2], '1002': [0, 1, 0]}\n"
     ]
    }
   ],
   "source": [
    "t_test = [-1,0,1,1,1,3] #The assignment of nonbinary codes is not successful\n",
    "print(xtree2code(tree2xtree( t_test)))"
   ]
  },
  {
   "cell_type": "code",
   "execution_count": 96,
   "metadata": {
    "collapsed": false,
    "jupyter": {
     "outputs_hidden": false
    },
    "ExecuteTime": {
     "end_time": "2023-11-06T02:38:08.843723500Z",
     "start_time": "2023-11-06T02:38:08.268891Z"
    }
   },
   "outputs": [
    {
     "name": "stdout",
     "output_type": "stream",
     "text": [
      "[[-1, [-1, 1], '0'], [0, [2, 3], '1'], [1, [], 'a'], [1, [], 'b']]\n"
     ]
    }
   ],
   "source": [
    "#What happens if your code has unused leaves in the tree?\n",
    "# The unused leaves are pruned, not stored.\n",
    "\n",
    "c_test={\n",
    "    'a':[1,0],\n",
    "    'b':[1,1],\n",
    "}\n",
    "\n",
    "print(code2xtree(c_test))"
   ]
  },
  {
   "cell_type": "code",
   "execution_count": 97,
   "metadata": {
    "collapsed": false,
    "jupyter": {
     "outputs_hidden": false
    },
    "ExecuteTime": {
     "end_time": "2023-11-06T02:38:08.850353500Z",
     "start_time": "2023-11-06T02:38:08.272841500Z"
    }
   },
   "outputs": [
    {
     "name": "stdout",
     "output_type": "stream",
     "text": [
      "[[-1, [1, 2], '0'], [0, [], 'a'], [0, [3], '1'], [2, [4, 5], 'd'], [3, [], 'b'], [3, [], 'c']]\n"
     ]
    }
   ],
   "source": [
    "#What happens if you supply a code that is not prefix-free\n",
    "# Representation still works.\n",
    "\n",
    "c_test={\n",
    "    'a':[0],\n",
    "    'b':[1,0,0],\n",
    "    'c':[1,0,1],\n",
    "    'd':[1,0],\n",
    "}\n",
    "print(code2xtree(c_test))"
   ]
  },
  {
   "cell_type": "markdown",
   "metadata": {},
   "source": [
    "## Testing your Shannon-Fano Code"
   ]
  },
  {
   "cell_type": "markdown",
   "metadata": {},
   "source": [
    "This next section can only be completed once you have a working Shannon-Fano function `shannon_fano()`"
   ]
  },
  {
   "cell_type": "code",
   "execution_count": 98,
   "metadata": {
    "ExecuteTime": {
     "end_time": "2023-11-06T02:38:08.857430900Z",
     "start_time": "2023-11-06T02:38:08.278060200Z"
    }
   },
   "outputs": [
    {
     "name": "stdout",
     "output_type": "stream",
     "text": [
      "Probability distribution: {'a': 0.07303538693441877, 'b': 0.08853378694277775, 'c': 0.05946159364553542, 'd': 0.02506655211484778, 'e': 0.031906859185780796, 'f': 0.05394598428568466, 'g': 0.05819763687877715, 'h': 0.0773119950947496, 'i': 0.09068417706129253, 'j': 0.048958898867697866, 'k': 0.08999761116982034, 'l': 0.04908457542053856, 'm': 0.09451391889864058, 'n': 0.007263202756531687, 'o': 0.075850336171811, 'p': 0.07618748457109573}\n",
      "\n",
      "Codebook: {'m': [0, 0, 0, 0], 'i': [0, 0, 0, 1], 'k': [0, 0, 1, 0], 'b': [0, 1, 0, 0], 'h': [0, 1, 0, 1], 'p': [0, 1, 1, 1], 'o': [1, 0, 0, 0], 'a': [1, 0, 0, 1], 'c': [1, 0, 1, 0, 1], 'g': [1, 0, 1, 1, 1], 'f': [1, 1, 0, 0, 1], 'l': [1, 1, 0, 1, 0], 'j': [1, 1, 1, 0, 0], 'e': [1, 1, 1, 0, 1], 'd': [1, 1, 1, 1, 0, 1], 'n': [1, 1, 1, 1, 1, 1, 1, 0]}\n",
      "\n",
      "Cut and paste for phylo.io: ((((m,i)3,(k)4)2,((b,h)6,(p)7)5)1,(((o,a)10,((c)12,(g)13)11)9,(((f)16,(l)17)15,((j,e)19,((d)21,(((n)24)23)22)20)18)14)8)0\n"
     ]
    }
   ],
   "source": [
    "from vl_codes import shannon_fano\n",
    "from random import random\n",
    "p = [random() for k in range(16)]\n",
    "p = dict([(chr(k+ord('a')),p[k]/sum(p)) for k in range(len(p))])\n",
    "print(f'Probability distribution: {p}\\n')\n",
    "c = shannon_fano(p)\n",
    "print(f'Codebook: {c}\\n')\n",
    "xt = code2xtree(c)\n",
    "print(f'Cut and paste for phylo.io: {xtree2newick(xt)}')"
   ]
  },
  {
   "cell_type": "markdown",
   "metadata": {},
   "source": [
    "We can upload data from a file, for example `hamlet.txt`, and display the first few lines..."
   ]
  },
  {
   "cell_type": "code",
   "execution_count": 99,
   "metadata": {
    "ExecuteTime": {
     "end_time": "2023-11-06T02:38:08.862368100Z",
     "start_time": "2023-11-06T02:38:08.282645Z"
    }
   },
   "outputs": [
    {
     "name": "stdout",
     "output_type": "stream",
     "text": [
      "        HAMLET\n",
      "\n",
      "\n",
      "        DRAMATIS PERSONAE\n",
      "\n",
      "\n",
      "CLAUDIUS        king of Denmark. (KING CLAUDIUS:)\n",
      "\n",
      "HAMLET  son to the late, and nephew to the present king.\n",
      "\n",
      "POLONIUS        lord chamberlain. (LORD POLONIUS:)\n",
      "\n",
      "HORATIO friend to Hamlet.\n",
      "\n",
      "LAERTES son to Polonius.\n",
      "\n",
      "LUCIANUS        nephew to the king.\n"
     ]
    }
   ],
   "source": [
    "f = open('hamlet.txt', 'r')\n",
    "hamlet = f.read()\n",
    "f.close()\n",
    "print(hamlet[:294])"
   ]
  },
  {
   "cell_type": "markdown",
   "metadata": {},
   "source": [
    "We now compute the startistics of the file:"
   ]
  },
  {
   "cell_type": "code",
   "execution_count": 100,
   "metadata": {
    "ExecuteTime": {
     "end_time": "2023-11-06T02:38:08.875389300Z",
     "start_time": "2023-11-06T02:38:08.314293500Z"
    }
   },
   "outputs": [
    {
     "name": "stdout",
     "output_type": "stream",
     "text": [
      "File length: 207039\n"
     ]
    }
   ],
   "source": [
    "from itertools import groupby\n",
    "frequencies = dict([(key, len(list(group))) for key, group in groupby(sorted(hamlet))])\n",
    "Nin = sum([frequencies[a] for a in frequencies])\n",
    "p = dict([(a,frequencies[a]/Nin) for a in frequencies])\n",
    "print(f'File length: {Nin}')"
   ]
  },
  {
   "cell_type": "code",
   "execution_count": 101,
   "metadata": {
    "collapsed": false,
    "jupyter": {
     "outputs_hidden": false
    },
    "ExecuteTime": {
     "end_time": "2023-11-06T02:38:08.877465500Z",
     "start_time": "2023-11-06T02:38:08.319295500Z"
    }
   },
   "outputs": [
    {
     "name": "stdout",
     "output_type": "stream",
     "text": [
      "{'\\n': 0.029197397591758073, ' ': 0.2731417752210936, '!': 0.0014538323697467627, '&': 2.4150039364564164e-05, \"'\": 0.0046657876052337965, '(': 7.728012596660533e-05, ')': 7.728012596660533e-05, ',': 0.015852085838899917, '-': 0.0020382633223692153, '.': 0.0062886702505325085, ':': 0.0026661643458478837, ';': 0.0028110645820352688, '?': 0.0020672433696066923, 'A': 0.007732842604533445, 'B': 0.0011688619052449055, 'C': 0.0023425538183627238, 'D': 0.002511604093914673, 'E': 0.00710977158892769, 'F': 0.0011205618265157772, 'G': 0.002130033471954559, 'H': 0.0046078275107588424, 'I': 0.0074140620849211985, 'J': 4.3470070856215496e-05, 'K': 0.0006423910470974068, 'L': 0.005752539376639184, 'M': 0.0030863750307913, 'N': 0.004071696636865518, 'O': 0.005201918479127121, 'P': 0.001477982409111327, 'Q': 0.0004685107636725448, 'R': 0.00434700708562155, 'S': 0.003815706219601138, 'T': 0.007525152265998193, 'U': 0.0032216152512328593, 'V': 0.0001932003149165133, 'W': 0.0021252034640816464, 'Y': 0.000521640850274586, 'Z': 0.0003381005511038983, '[': 0.001183351928863644, ']': 0.001183351928863644, 'a': 0.042277058911606026, 'b': 0.007636242447075189, 'c': 0.011553378832007495, 'd': 0.02361390849067084, 'e': 0.06995783403126947, 'f': 0.012065359666536256, 'g': 0.010002946304802477, 'h': 0.03735528088910785, 'i': 0.03595457860596313, 'j': 0.0004878307951641961, 'k': 0.00547239892001024, 'l': 0.02591299223817735, 'm': 0.01759571868102145, 'n': 0.037683721424465924, 'o': 0.050444602224701623, 'p': 0.008317273557155898, 'q': 0.0005989209762411913, 'r': 0.035128647259695035, 's': 0.038417882621148675, 't': 0.05306246649182038, 'u': 0.019774052231705138, 'v': 0.005747709368766271, 'w': 0.012949251107279305, 'x': 0.0008549113935055714, 'y': 0.014958534382411043, 'z': 0.00024633040151855447, '|': 0.000231840377899816}\n"
     ]
    }
   ],
   "source": [
    "print(p)"
   ]
  },
  {
   "cell_type": "code",
   "execution_count": 102,
   "metadata": {
    "collapsed": false,
    "jupyter": {
     "outputs_hidden": false
    },
    "ExecuteTime": {
     "end_time": "2023-11-06T02:38:08.879436600Z",
     "start_time": "2023-11-06T02:38:08.323823800Z"
    }
   },
   "outputs": [
    {
     "name": "stdout",
     "output_type": "stream",
     "text": [
      "['&', 'J', '(', ')', 'V', '|', 'z', 'Z', 'Q', 'j', 'Y', 'q', 'K', 'x', 'F', 'B', '[', ']', '!', 'P', '-', '?', 'W', 'G', 'C', 'D', ':', ';', 'M', 'U', 'S', 'N', 'R', 'H', \"'\", 'O', 'k', 'v', 'L', '.', 'E', 'I', 'T', 'b', 'A', 'p', 'g', 'c', 'f', 'w', 'y', ',', 'm', 'u', 'd', 'l', '\\n', 'r', 'i', 'h', 'n', 's', 'a', 'o', 't', 'e', ' ']\n"
     ]
    }
   ],
   "source": [
    "print(sorted(p,key=lambda x:p[x]))"
   ]
  },
  {
   "cell_type": "markdown",
   "metadata": {},
   "source": [
    "We can view the alphabet of symbols used in the file:"
   ]
  },
  {
   "cell_type": "code",
   "execution_count": 103,
   "metadata": {
    "ExecuteTime": {
     "end_time": "2023-11-06T02:38:08.884075100Z",
     "start_time": "2023-11-06T02:38:08.330968Z"
    }
   },
   "outputs": [
    {
     "name": "stdout",
     "output_type": "stream",
     "text": [
      "['\\n', ' ', '!', '&', \"'\", '(', ')', ',', '-', '.', ':', ';', '?', 'A', 'B', 'C', 'D', 'E', 'F', 'G', 'H', 'I', 'J', 'K', 'L', 'M', 'N', 'O', 'P', 'Q', 'R', 'S', 'T', 'U', 'V', 'W', 'Y', 'Z', '[', ']', 'a', 'b', 'c', 'd', 'e', 'f', 'g', 'h', 'i', 'j', 'k', 'l', 'm', 'n', 'o', 'p', 'q', 'r', 's', 't', 'u', 'v', 'w', 'x', 'y', 'z', '|']\n",
      "67\n"
     ]
    }
   ],
   "source": [
    "print(list(p))\n",
    "print(len(p))"
   ]
  },
  {
   "cell_type": "markdown",
   "metadata": {},
   "source": [
    "We are now ready to construct the Shannon-Fano code for this file, and view its tree (cut and paste into [phylo.io](https://phylo.io), don't forget to add a carriage return at the end, click on \"Branch Labels/Support\" under \"Settings\", then right-click on the root of the tree and select \"expand all\". "
   ]
  },
  {
   "cell_type": "code",
   "execution_count": 104,
   "metadata": {
    "ExecuteTime": {
     "end_time": "2023-11-06T02:38:08.887217600Z",
     "start_time": "2023-11-06T02:38:08.333944300Z"
    }
   },
   "outputs": [
    {
     "name": "stdout",
     "output_type": "stream",
     "text": [
      "67\n",
      "166\n",
      "((space,((e,(t)4)3,((o)6,(a,s)7)5)2)1,((((n)11,(h,i)12)10,((r,(carriage return)15)14,((l)17,(d)18)16)13)9,((((u,m)22,(comma,(y)24)23)21,(((w)27,(f)28)26,((c,g)30,(p)31)29)25)20,(((((A)36,(b,T)37)35,((I)39,(E)40)38)34,(((.)43,(L)44)42,((v)46,(k,O)47)45)41)33,((((')51,(H,R)52)50,((N,(S)55)54,((U)57,(M)58)56)53)49,((((semi-colon,colon)62,(D)63)61,((C,G)65,(W,?)66)64)60,(((-,(P)70)69,((!)72,(left square bracket,right square bracket)73)71)68,(((B,F)76,((x,K)78)77)75,(((q)81,(Y,(j)83)82)80,(((Q)86,(Z)87)85,((z,(vertical bar)90)89,((V)92,((left parenthesis,right parenthesis)94,((J)96,((&)98)97)95)93)91)88)84)79)74)67)59)48)32)19)8)0\n",
      "16\n",
      "2\n"
     ]
    }
   ],
   "source": [
    "c = shannon_fano(p)\n",
    "print(len(c))\n",
    "xt = code2xtree(c)\n",
    "print(len(xt))\n",
    "print(xtree2newick(xt))\n",
    "print(len(c['&']))\n",
    "print(len(c[' ']))"
   ]
  },
  {
   "cell_type": "code",
   "execution_count": 105,
   "outputs": [
    {
     "name": "stdout",
     "output_type": "stream",
     "text": [
      "67\n",
      "dict_keys([' ', 'e', 't', 'o', 'a', 's', 'n', 'h', 'i', 'r', '\\n', 'l', 'd', 'u', 'm', ',', 'y', 'w', 'f', 'c', 'g', 'p', 'A', 'b', 'T', 'I', 'E', '.', 'L', 'v', 'k', 'O', \"'\", 'H', 'R', 'N', 'S', 'U', 'M', ';', ':', 'D', 'C', 'G', 'W', '?', '-', 'P', '!', '[', ']', 'B', 'F', 'x', 'K', 'q', 'Y', 'j', 'Q', 'Z', 'z', '|', 'V', '(', ')', 'J', '&'])\n"
     ]
    }
   ],
   "source": [
    "print(len(c.keys()))\n",
    "print(c.keys())"
   ],
   "metadata": {
    "collapsed": false,
    "ExecuteTime": {
     "end_time": "2023-11-06T02:38:08.887217600Z",
     "start_time": "2023-11-06T02:38:08.339905500Z"
    }
   }
  },
  {
   "cell_type": "markdown",
   "metadata": {},
   "source": [
    "Now we can actually encode the file `hamlet.txt` using the Shannon-Fano code we constructed."
   ]
  },
  {
   "cell_type": "code",
   "execution_count": 106,
   "metadata": {
    "ExecuteTime": {
     "end_time": "2023-11-06T02:38:08.909847600Z",
     "start_time": "2023-11-06T02:38:08.343501800Z"
    }
   },
   "outputs": [
    {
     "name": "stdout",
     "output_type": "stream",
     "text": [
      "Length of binary sequence: 997548\n"
     ]
    }
   ],
   "source": [
    "from vl_codes import vl_encode\n",
    "hamlet_sf = vl_encode(hamlet, c)\n",
    "print(f'Length of binary sequence: {len(hamlet_sf)}')"
   ]
  },
  {
   "cell_type": "markdown",
   "metadata": {},
   "source": [
    "We have commands to convert a bit sequence into a byte sequence (including a 3 bit prefix that helps us determine the length of the bit sequence):"
   ]
  },
  {
   "cell_type": "code",
   "execution_count": 107,
   "metadata": {
    "ExecuteTime": {
     "end_time": "2023-11-06T02:38:08.910850100Z",
     "start_time": "2023-11-06T02:38:08.405909600Z"
    }
   },
   "outputs": [
    {
     "name": "stdout",
     "output_type": "stream",
     "text": [
      "['01101000']\n",
      "The original bits are: [0, 1]\n",
      "[141, 128]\n"
     ]
    }
   ],
   "source": [
    "from vl_codes import bytes2bits, bits2bytes\n",
    "x = bits2bytes([0,1])\n",
    "print([format(a, '08b') for a in x])\n",
    "y = bytes2bits(x)\n",
    "print(f'The original bits are: {y}')\n",
    "print(bits2bytes([0,1,1,0,1,1,0,0,0]))"
   ]
  },
  {
   "cell_type": "code",
   "execution_count": 108,
   "outputs": [
    {
     "name": "stdout",
     "output_type": "stream",
     "text": [
      "[141, 128]\n"
     ]
    }
   ],
   "source": [
    "print(bits2bytes([int(i) for i in \"011011000\"]))"
   ],
   "metadata": {
    "collapsed": false,
    "ExecuteTime": {
     "end_time": "2023-11-06T02:38:08.910850100Z",
     "start_time": "2023-11-06T02:38:08.411073200Z"
    }
   }
  },
  {
   "cell_type": "markdown",
   "metadata": {},
   "source": [
    "We now apply the bits to byte conversion to the compressed text of Hamlet to compute the length of the compressed file."
   ]
  },
  {
   "cell_type": "code",
   "execution_count": 109,
   "metadata": {
    "ExecuteTime": {
     "end_time": "2023-11-06T02:38:08.956555900Z",
     "start_time": "2023-11-06T02:38:08.417085900Z"
    }
   },
   "outputs": [
    {
     "name": "stdout",
     "output_type": "stream",
     "text": [
      "Length of compressed string: 124694\n"
     ]
    }
   ],
   "source": [
    "hamlet_zipped = bits2bytes(hamlet_sf)\n",
    "Nout = len(hamlet_zipped)\n",
    "print(f'Length of compressed string: {Nout}')"
   ]
  },
  {
   "cell_type": "markdown",
   "metadata": {},
   "source": [
    "The compression ratio can be expressed in two ways, unitless or in bits/bytes:"
   ]
  },
  {
   "cell_type": "code",
   "execution_count": 110,
   "metadata": {
    "ExecuteTime": {
     "end_time": "2023-11-06T02:38:08.956555900Z",
     "start_time": "2023-11-06T02:38:08.710708Z"
    }
   },
   "outputs": [
    {
     "name": "stdout",
     "output_type": "stream",
     "text": [
      "Compression ratio (rateless): 0.6022730017049928\n",
      "Compression ratio (bits per byte): 4.818184013639942\n"
     ]
    }
   ],
   "source": [
    "print(f'Compression ratio (rateless): {Nout/Nin}')\n",
    "print(f'Compression ratio (bits per byte): {8.0*Nout/Nin}')"
   ]
  },
  {
   "cell_type": "markdown",
   "metadata": {},
   "source": [
    "The lower bound for compression is the Entropy, measured in bits, that can be computed using an in-line function in Python:"
   ]
  },
  {
   "cell_type": "code",
   "execution_count": 111,
   "metadata": {
    "ExecuteTime": {
     "end_time": "2023-11-06T02:38:08.956555900Z",
     "start_time": "2023-11-06T02:38:08.714279100Z"
    }
   },
   "outputs": [
    {
     "name": "stdout",
     "output_type": "stream",
     "text": [
      "Entropy: 4.449863631694343\n"
     ]
    }
   ],
   "source": [
    "from math import log2\n",
    "H = lambda pr: -sum([pr[a]*log2(pr[a]) for a in pr])\n",
    "print(f'Entropy: {H(p)}')"
   ]
  },
  {
   "cell_type": "markdown",
   "metadata": {},
   "source": [
    "We now proceed to decode the compressed Hamlet sequence"
   ]
  },
  {
   "cell_type": "code",
   "execution_count": 112,
   "metadata": {
    "ExecuteTime": {
     "end_time": "2023-11-06T02:38:09.251391300Z",
     "start_time": "2023-11-06T02:38:08.768376900Z"
    }
   },
   "outputs": [
    {
     "name": "stdout",
     "output_type": "stream",
     "text": [
      "Length of unzipped file: 207039\n"
     ]
    }
   ],
   "source": [
    "from vl_codes import vl_decode\n",
    "xt = code2xtree(c)\n",
    "hamlet_unzipped = vl_decode(hamlet_sf, xt)\n",
    "print(f'Length of unzipped file: {len(hamlet_unzipped)}')"
   ]
  },
  {
   "cell_type": "markdown",
   "metadata": {},
   "source": [
    "We can view the first few lines of the input (note the command `join` that turns the list of strings into one string)"
   ]
  },
  {
   "cell_type": "code",
   "execution_count": 113,
   "metadata": {
    "ExecuteTime": {
     "end_time": "2023-11-06T02:38:09.251391300Z",
     "start_time": "2023-11-06T02:38:08.854359800Z"
    }
   },
   "outputs": [
    {
     "name": "stdout",
     "output_type": "stream",
     "text": [
      "        HAMLET\n",
      "\n",
      "\n",
      "        DRAMATIS PERSONAE\n",
      "\n",
      "\n",
      "CLAUDIUS        king of Denmark. (KING CLAUDIUS:)\n",
      "\n",
      "HAMLET  son to the late, and nephew to the present king.\n",
      "\n",
      "POLONIUS        lord chamberlain. (LORD POLONIUS:)\n",
      "\n",
      "HORATIO friend to Hamlet.\n",
      "\n",
      "LAERTES son to Polonius.\n",
      "\n",
      "LUCIANUS        nephew to the king.\n"
     ]
    }
   ],
   "source": [
    "print(''.join(hamlet_unzipped[:294]))"
   ]
  },
  {
   "cell_type": "markdown",
   "metadata": {},
   "source": [
    "## Compressing and uncompressing files"
   ]
  },
  {
   "cell_type": "markdown",
   "metadata": {},
   "source": [
    "This is where we put it all together, compressing directly from input to output file. Play around with these commands once you implemented Huffman coding and arithmetic coding. We begin by importing the compression and decompression functions."
   ]
  },
  {
   "cell_type": "code",
   "execution_count": 114,
   "metadata": {
    "ExecuteTime": {
     "end_time": "2023-11-06T02:38:09.251391300Z",
     "start_time": "2023-11-06T02:38:08.859363600Z"
    }
   },
   "outputs": [],
   "source": [
    "from camzip import camzip\n",
    "from camunzip import camunzip"
   ]
  },
  {
   "cell_type": "markdown",
   "metadata": {},
   "source": [
    "The next commands define the method to be used and the filename. Modify those when you are trying other methods on various files. "
   ]
  },
  {
   "cell_type": "code",
   "execution_count": 115,
   "metadata": {
    "ExecuteTime": {
     "end_time": "2023-11-06T02:38:09.251391300Z",
     "start_time": "2023-11-06T02:38:08.866379800Z"
    }
   },
   "outputs": [],
   "source": [
    "method = 'huffman'\n",
    "filename = 'hamlet.txt'"
   ]
  },
  {
   "cell_type": "markdown",
   "metadata": {},
   "source": [
    "Now we do the actual compression and decompression..."
   ]
  },
  {
   "cell_type": "code",
   "execution_count": 116,
   "metadata": {
    "ExecuteTime": {
     "end_time": "2023-11-06T02:38:09.280548Z",
     "start_time": "2023-11-06T02:38:08.869442500Z"
    }
   },
   "outputs": [],
   "source": [
    "camzip(method, filename)\n",
    "camunzip(filename + '.cz' + method[0])"
   ]
  },
  {
   "cell_type": "markdown",
   "metadata": {},
   "source": [
    "The next few lines perform various statistical measurements and verifies that the decompressed file is identical to the compressed file."
   ]
  },
  {
   "cell_type": "code",
   "execution_count": 117,
   "metadata": {
    "ExecuteTime": {
     "end_time": "2023-11-06T02:38:09.281548300Z",
     "start_time": "2023-11-06T02:38:09.187310200Z"
    }
   },
   "outputs": [
    {
     "name": "stdout",
     "output_type": "stream",
     "text": [
      "Length of original file: 207039 bytes\n",
      "Length of compressed file: 115752 bytes\n",
      "Compression rate: 4.47266457044325 bits/byte\n",
      "Entropy: 4.449863631694343 bits per symbol\n",
      "The two files are the same\n"
     ]
    }
   ],
   "source": [
    "from filecmp import cmp\n",
    "from os import stat\n",
    "from json import load\n",
    "Nin = stat(filename).st_size\n",
    "print(f'Length of original file: {Nin} bytes')\n",
    "Nout = stat(filename + '.cz' + method[0]).st_size\n",
    "print(f'Length of compressed file: {Nout} bytes')\n",
    "print(f'Compression rate: {8.0*Nout/Nin} bits/byte')\n",
    "with open(filename + '.czp', 'r') as fp:\n",
    "    freq = load(fp)\n",
    "pf = dict([(a, freq[a]/Nin) for a in freq])\n",
    "print(f'Entropy: {H(pf)} bits per symbol')\n",
    "if cmp(filename,filename+'.cuz'):\n",
    "    print('The two files are the same')\n",
    "else:\n",
    "    print('The files are different')"
   ]
  },
  {
   "cell_type": "markdown",
   "metadata": {},
   "source": [
    "## Huffman coding"
   ]
  },
  {
   "cell_type": "markdown",
   "metadata": {},
   "source": [
    "This section will only work once you have a working function `huffman()`. We first repeat the tree construction and visualisation."
   ]
  },
  {
   "cell_type": "code",
   "execution_count": 118,
   "metadata": {
    "ExecuteTime": {
     "end_time": "2023-11-06T02:38:09.281548300Z",
     "start_time": "2023-11-06T02:38:09.192399Z"
    }
   },
   "outputs": [
    {
     "name": "stdout",
     "output_type": "stream",
     "text": [
      "((((a,(((v,L)96,c)105,d)113)121,(((f,((M,(P,((Z,(V,(right parenthesis,((&,J)67,left parenthesis)68)69)70)72,x)76)81)88,.)97)106,l)114,o)122)127,((t,((w,((U,S)89,E)98)107,carriage return)115)123,((((I,T)99,y)108,((b,A)100,comma)109)116,(((((((Q,(vertical bar,z)71)73,(j,Y)74)77,-)82,N)90,p)101,(((?,W)83,R)91,((G,(F,B)78)84,H)92)102)110,r)117)124)128)130,(space,((e,(i,(m,((',(C,(left square bracket,right square bracket)79)85)93,g)103)111)118)125,((h,n)119,(s,(u,(((D,colon)86,O)94,(k,(((q,K)75,!)80,semi-colon)87)95)104)112)120)126)129)131)132\n"
     ]
    }
   ],
   "source": [
    "from vl_codes import huffman\n",
    "xt = huffman(p)\n",
    "print(xtree2newick(xt))"
   ]
  },
  {
   "cell_type": "code",
   "execution_count": 119,
   "metadata": {
    "ExecuteTime": {
     "end_time": "2023-11-06T02:38:09.281548300Z",
     "start_time": "2023-11-06T02:38:09.195400200Z"
    }
   },
   "outputs": [
    {
     "data": {
      "text/plain": "{'a': [0], 'b': [1, 1, 1], 'c': [1, 0], 'd': [1, 1, 0]}"
     },
     "execution_count": 119,
     "metadata": {},
     "output_type": "execute_result"
    }
   ],
   "source": [
    "xtree2code(huffman({'a':.5, 'b':.25, 'c':.25,'d':0}))"
   ]
  },
  {
   "cell_type": "markdown",
   "metadata": {},
   "source": [
    "Observe how the Huffman tree differs from the Shannon-Fano tree. What are its shortest and its longest codeword? You can use the `camzip` code above changing the method to `'huffman'` to test the compression rate etc. You may also want to do it by hand to test the error resilience:"
   ]
  },
  {
   "cell_type": "code",
   "execution_count": 132,
   "metadata": {
    "ExecuteTime": {
     "end_time": "2023-11-06T02:39:33.265783600Z",
     "start_time": "2023-11-06T02:39:33.086131500Z"
    }
   },
   "outputs": [
    {
     "name": "stdout",
     "output_type": "stream",
     "text": [
      "        HAMLET\n",
      "\n",
      "\n",
      "        DRAMATIS PERSONAE\n",
      "\n",
      "\n",
      "CLAUDIUS        king of Denmark. (KING CLAUDIUS:)\n",
      "\n",
      "HAMLET  son to the late, and nephew to the present king.\n",
      "\n",
      "POLONIUS        lord chamberlain. (LORD POLONIUS:)\n",
      "\n",
      "HORATIO friend to Hamlet.\n",
      "\n",
      "LAERTES son to Polonius.\n",
      "\n",
      "LUCIANUS        nephew to the king.\n",
      "\n",
      "\n",
      "VOLTIMAND       |\n",
      "        |\n",
      "CORNELIUS       |\n",
      "        |\n",
      "ROSENCRANTZ     |  courtiers.\n",
      "        |\n",
      "GUILDENSTERN    |\n",
      "        |\n",
      "OSRIC   |\n",
      "\n",
      "\n",
      "        A Gentleman, (Gentlemen:)\n",
      "\n",
      "        A Priest. (First Priest:)\n",
      "\n",
      "\n",
      "MARCELLUS       |\n",
      "        |  officers.\n",
      "BERNARDO        |\n",
      "\n",
      "\n",
      "FRANCISCO       a soldier.\n",
      "\n",
      "REYNAL\n"
     ]
    }
   ],
   "source": [
    "c = xtree2code(xt) #  space has codeword length 2 and & has 15\n",
    "hamlet_huf = vl_encode(hamlet, c)\n",
    "hamlet_decoded = vl_decode(hamlet_huf, xt)\n",
    "print(''.join(hamlet_decoded[:597]))"
   ]
  },
  {
   "cell_type": "markdown",
   "metadata": {},
   "source": [
    "We now introduce a random bit flip (bit 400 flipped) in the compressed sequence and observe the result."
   ]
  },
  {
   "cell_type": "code",
   "execution_count": 134,
   "metadata": {
    "ExecuteTime": {
     "end_time": "2023-11-06T02:41:15.694341900Z",
     "start_time": "2023-11-06T02:41:15.530727900Z"
    }
   },
   "outputs": [
    {
     "name": "stdout",
     "output_type": "stream",
     "text": [
      "        HAMLET\n",
      "\n",
      "\n",
      "        DRAMATIS PERSONAE\n",
      "\n",
      "\n",
      "CLAUDIUS   lEuing of Denmark. y,; \n",
      "aNG CLAUDIUS:)\n",
      "\n",
      "p i t a S eAhr e d the late, and nephew to the present king.\n",
      "\n",
      "POLONIUS        lord chamberlain. (LORD POLONIUS:)\n",
      "\n",
      "HORATIO friend to Hamlet.\n",
      "\n",
      "LAERTES son to Polonius.\n",
      "\n",
      "LUCIANUS        nephew to the king.\n",
      "\n",
      "\n",
      "VOLTIMAND       |\n",
      "        |\n",
      "CORNELIUS       |\n",
      "        |\n",
      "ROSENCRANTZ     |  courtiers.\n",
      "        |\n",
      "GUILDENSTERN    |\n",
      "        |\n",
      "OSRIC   |\n",
      "\n",
      "\n",
      "        A Gentleman, (Gentlemen:)\n",
      "\n",
      "        A Priest. (First Priest:)\n",
      "\n",
      "\n",
      "MARCELLUS       |\n",
      "        |  officers.\n",
      "BERNARDO        |\n",
      "\n",
      "\n",
      "FRANCISCO       a soldier.\n",
      "\n",
      "REYNALDO        servant to Polonius.\n",
      "        Players.\n",
      "        (First Player:)\n",
      "        (Player King:)\n",
      "        (Player Queen:)\n",
      "\n",
      "        Two Clowns, grave-diggers.\n",
      "        (First Clown:)\n",
      "        (Second Clown:)\n",
      "\n",
      "FORTINBRAS      prince of Norway. (PRINCE FORTINBRAS:)\n",
      "\n",
      "        A Captain.\n",
      "\n",
      "        English A\n"
     ]
    }
   ],
   "source": [
    "hamlet_corrupted = hamlet_huf.copy()\n",
    "hamlet_corrupted[400] ^= 1\n",
    "hamlet_corrupted[550] ^= 1\n",
    "\n",
    "hamlet_corrupted[300] ^= 1\n",
    "hamlet_decoded = vl_decode(hamlet_corrupted, xt)\n",
    "print(''.join(hamlet_decoded[:897]))"
   ]
  },
  {
   "cell_type": "markdown",
   "metadata": {},
   "source": [
    "## Arithmetic coding"
   ]
  },
  {
   "cell_type": "markdown",
   "metadata": {},
   "source": [
    "We first try \"by hand\" to operate the steps of arithmetic coding using floating point numbers. We first compute the cumulative probability distribution."
   ]
  },
  {
   "cell_type": "code",
   "execution_count": 122,
   "metadata": {
    "ExecuteTime": {
     "end_time": "2023-11-06T02:38:09.475422700Z",
     "start_time": "2023-11-06T02:38:09.471424300Z"
    }
   },
   "outputs": [],
   "source": [
    "f = [0.0]\n",
    "for a in p:\n",
    "    f.append(f[-1]+p[a])\n",
    "f.pop()\n",
    "f = dict([(a,f[k]) for a,k in zip(p,range(len(p)))])"
   ]
  },
  {
   "cell_type": "markdown",
   "metadata": {},
   "source": [
    "We now perform by hand the first `n=4` steps of arithmetic coding. Vary `n` to observe the loss of precision. "
   ]
  },
  {
   "cell_type": "code",
   "execution_count": 123,
   "metadata": {
    "ExecuteTime": {
     "end_time": "2023-11-06T02:38:09.493229700Z",
     "start_time": "2023-11-06T02:38:09.475422700Z"
    }
   },
   "outputs": [
    {
     "name": "stdout",
     "output_type": "stream",
     "text": [
      "lo = 0.03994572862162076, hi = 0.04551184792510039, hi-lo = 0.005566119303479632\n"
     ]
    }
   ],
   "source": [
    "lo, hi = 0.0, 1.0\n",
    "n = 4\n",
    "for k in range(n):\n",
    "    a = hamlet[k]\n",
    "    lohi_range = hi - lo\n",
    "    hi = lo + lohi_range * (f[a] + p[a])\n",
    "    lo = lo + lohi_range * f[a]\n",
    "print(f'lo = {lo}, hi = {hi}, hi-lo = {hi-lo}')"
   ]
  },
  {
   "cell_type": "markdown",
   "metadata": {},
   "source": [
    "The output sequence is roughly the binary expression of `lo` (not exactly) and we can compute and observe it. What length `ell` would we need when encoding all of Hamlet?"
   ]
  },
  {
   "cell_type": "code",
   "execution_count": 124,
   "metadata": {
    "ExecuteTime": {
     "end_time": "2023-11-06T02:38:09.499227600Z",
     "start_time": "2023-11-06T02:38:09.495230200Z"
    }
   },
   "outputs": [
    {
     "name": "stdout",
     "output_type": "stream",
     "text": [
      "0b101000\n"
     ]
    }
   ],
   "source": [
    "from math import floor, ceil\n",
    "ell = ceil(-log2(hi-lo))+2 if hi-lo > 0.0 else 96\n",
    "print(bin(floor(lo*2**ell)))"
   ]
  },
  {
   "cell_type": "code",
   "execution_count": 125,
   "metadata": {
    "collapsed": false,
    "jupyter": {
     "outputs_hidden": false
    },
    "ExecuteTime": {
     "end_time": "2023-11-06T02:38:09.563874900Z",
     "start_time": "2023-11-06T02:38:09.500227900Z"
    }
   },
   "outputs": [
    {
     "name": "stdout",
     "output_type": "stream",
     "text": [
      "{'\\n': 0.029197397591758073, ' ': 0.2731417752210936, '!': 0.0014538323697467627, '&': 2.4150039364564164e-05, \"'\": 0.0046657876052337965, '(': 7.728012596660533e-05, ')': 7.728012596660533e-05, ',': 0.015852085838899917, '-': 0.0020382633223692153, '.': 0.0062886702505325085, ':': 0.0026661643458478837, ';': 0.0028110645820352688, '?': 0.0020672433696066923, 'A': 0.007732842604533445, 'B': 0.0011688619052449055, 'C': 0.0023425538183627238, 'D': 0.002511604093914673, 'E': 0.00710977158892769, 'F': 0.0011205618265157772, 'G': 0.002130033471954559, 'H': 0.0046078275107588424, 'I': 0.0074140620849211985, 'J': 4.3470070856215496e-05, 'K': 0.0006423910470974068, 'L': 0.005752539376639184, 'M': 0.0030863750307913, 'N': 0.004071696636865518, 'O': 0.005201918479127121, 'P': 0.001477982409111327, 'Q': 0.0004685107636725448, 'R': 0.00434700708562155, 'S': 0.003815706219601138, 'T': 0.007525152265998193, 'U': 0.0032216152512328593, 'V': 0.0001932003149165133, 'W': 0.0021252034640816464, 'Y': 0.000521640850274586, 'Z': 0.0003381005511038983, '[': 0.001183351928863644, ']': 0.001183351928863644, 'a': 0.042277058911606026, 'b': 0.007636242447075189, 'c': 0.011553378832007495, 'd': 0.02361390849067084, 'e': 0.06995783403126947, 'f': 0.012065359666536256, 'g': 0.010002946304802477, 'h': 0.03735528088910785, 'i': 0.03595457860596313, 'j': 0.0004878307951641961, 'k': 0.00547239892001024, 'l': 0.02591299223817735, 'm': 0.01759571868102145, 'n': 0.037683721424465924, 'o': 0.050444602224701623, 'p': 0.008317273557155898, 'q': 0.0005989209762411913, 'r': 0.035128647259695035, 's': 0.038417882621148675, 't': 0.05306246649182038, 'u': 0.019774052231705138, 'v': 0.005747709368766271, 'w': 0.012949251107279305, 'x': 0.0008549113935055714, 'y': 0.014958534382411043, 'z': 0.00024633040151855447, '|': 0.000231840377899816}\n"
     ]
    }
   ],
   "source": [
    "print(p)"
   ]
  },
  {
   "cell_type": "markdown",
   "metadata": {},
   "source": [
    "We encode and decode Hamlet again using arithmetic coding and verify that the first few lines of the play look as expected."
   ]
  },
  {
   "cell_type": "code",
   "execution_count": 126,
   "metadata": {
    "collapsed": false,
    "jupyter": {
     "outputs_hidden": false
    },
    "ExecuteTime": {
     "end_time": "2023-11-06T02:38:09.563874900Z",
     "start_time": "2023-11-06T02:38:09.504229300Z"
    }
   },
   "outputs": [],
   "source": [
    "#!jupyter notebook --NotebookApp.iopub_data_rate_limit=1.0e10"
   ]
  },
  {
   "cell_type": "code",
   "execution_count": 141,
   "metadata": {
    "ExecuteTime": {
     "end_time": "2023-11-06T03:23:23.052703500Z",
     "start_time": "2023-11-06T03:23:20.792498200Z"
    }
   },
   "outputs": [
    {
     "name": "stdout",
     "output_type": "stream",
     "text": [
      "Arithmetic decoded 44%    \r"
     ]
    },
    {
     "name": "stderr",
     "output_type": "stream",
     "text": [
      "IOPub message rate exceeded.\n",
      "The Jupyter server will temporarily stop sending output\n",
      "to the client in order to avoid crashing it.\n",
      "To change this limit, set the config variable\n",
      "`--ServerApp.iopub_msg_rate_limit`.\n",
      "\n",
      "Current values:\n",
      "ServerApp.iopub_msg_rate_limit=1000.0 (msgs/sec)\n",
      "ServerApp.rate_limit_window=3.0 (secs)\n",
      "\n"
     ]
    }
   ],
   "source": [
    "import arithmetic as arith\n",
    "arith_encoded = arith.encode(hamlet, p)\n",
    "arith_decoded = arith.decode(arith_encoded, p, Nin)\n",
    "print('\\n'+''.join(arith_decoded[:294]))"
   ]
  },
  {
   "cell_type": "markdown",
   "metadata": {},
   "source": [
    "We now repeat the steps above but introduce a one bit mistake (bit 399 flipped) and observe the effect on the decoded text. Repeat this experiment varying the location of the mistake or adding more than one mistake. What do you observe? Can you explain why?"
   ]
  },
  {
   "cell_type": "code",
   "execution_count": 140,
   "metadata": {
    "ExecuteTime": {
     "end_time": "2023-11-06T03:23:09.400178100Z",
     "start_time": "2023-11-06T03:23:08.208588300Z"
    }
   },
   "outputs": [
    {
     "name": "stdout",
     "output_type": "stream",
     "text": [
      "Arithmetic decoded 99%    \r\n",
      "u:re!oA  iAedo,Weltos iM  okuw usmunlLy\n",
      "   Dh\n",
      "\n",
      "e  \n"
     ]
    }
   ],
   "source": [
    "arith_corrupted = arith_encoded.copy()\n",
    "arith_corrupted[399] ^= 1\n",
    "arith_decoded = arith.decode(arith_corrupted, p, Nin)\n",
    "print('\\n'+''.join(arith_decoded[-50:]))"
   ]
  },
  {
   "cell_type": "code",
   "execution_count": 129,
   "metadata": {
    "ExecuteTime": {
     "end_time": "2023-11-06T02:38:13.112729100Z",
     "start_time": "2023-11-06T02:38:13.101037800Z"
    }
   },
   "outputs": [
    {
     "data": {
      "text/plain": "'(((5,6)3,(7)4)1,(8)2)0'"
     },
     "execution_count": 129,
     "metadata": {},
     "output_type": "execute_result"
    }
   ],
   "source": [
    "xtree2newick(tree2xtree([-1,0,0,1,1,3,3,4,2]),[str(chr(a+ord('0'))) for a in range(9)])"
   ]
  },
  {
   "cell_type": "code",
   "execution_count": 129,
   "metadata": {
    "ExecuteTime": {
     "end_time": "2023-11-06T02:38:13.154240900Z",
     "start_time": "2023-11-06T02:38:13.106724600Z"
    }
   },
   "outputs": [],
   "source": []
  }
 ],
 "metadata": {
  "kernelspec": {
   "display_name": "Python 3 (ipykernel)",
   "language": "python",
   "name": "python3"
  },
  "language_info": {
   "codemirror_mode": {
    "name": "ipython",
    "version": 3
   },
   "file_extension": ".py",
   "mimetype": "text/x-python",
   "name": "python",
   "nbconvert_exporter": "python",
   "pygments_lexer": "ipython3",
   "version": "3.10.12"
  }
 },
 "nbformat": 4,
 "nbformat_minor": 4
}
